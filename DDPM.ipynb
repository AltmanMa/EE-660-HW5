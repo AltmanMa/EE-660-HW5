{
 "cells": [
  {
   "cell_type": "code",
   "execution_count": null,
   "metadata": {},
   "outputs": [],
   "source": [
    "from typing import Callable, Iterator, Sequence\n",
    "import functools\n",
    "\n",
    "import numpy as np\n",
    "import scipy as sp\n",
    "import matplotlib.pylab as plt\n",
    "\n",
    "import jax.numpy as jnp\n",
    "import jax.scipy as jsp\n",
    "import jax\n",
    "import flax.linen as nn\n",
    "import optax\n",
    "import haiku as hk\n",
    "import chex\n",
    "import tqdm"
   ]
  },
  {
   "cell_type": "code",
   "execution_count": null,
   "metadata": {},
   "outputs": [],
   "source": [
    "def generate_checkerboard(*, num: int, rng: np.random.Generator) -> np.ndarray:\n",
    "    # https://github.com/malbergo/stochastic-interpolants/blob/main/notebooks/checker-mirror.ipynb\n",
    "    x1 = rng.uniform(size=num) * 4 - 2\n",
    "    x2_ = rng.uniform(size=num) - rng.choice([0, 1], size=(num,)) * 2\n",
    "    x2 = x2_ + (np.floor(x1) % 2)\n",
    "    x = np.hstack([x1[:, None], x2[:, None]]) * 2\n",
    "    return x"
   ]
  },
  {
   "cell_type": "code",
   "execution_count": null,
   "metadata": {},
   "outputs": [],
   "source": [
    "X_train = generate_checkerboard(num=2000, rng=np.random.default_rng())\n",
    "plt.plot(X_train[:, 0], X_train[:, 1], '.')"
   ]
  },
  {
   "cell_type": "code",
   "execution_count": null,
   "metadata": {},
   "outputs": [],
   "source": [
    "from typing import Tuple\n",
    "\n",
    "Activation = Callable[[jax.Array], jax.Array]\n",
    "\n",
    "class MLP(nn.Module):\n",
    "    \n",
    "    features: Sequence[int]\n",
    "    activation: Activation = nn.relu\n",
    "\n",
    "    @nn.compact\n",
    "    def __call__(self, x: jax.Array) -> Tuple[jax.Array, jax.Array]:\n",
    "        for f in self.features[:-1]:\n",
    "            x = nn.Dense(f)(x)\n",
    "            x = self.activation(x)\n",
    "        \n",
    "        noise_level = nn.Dense(1)(x)\n",
    "        \n",
    "        image = nn.Dense(2)(x)\n",
    "        \n",
    "        return image, noise_level\n",
    "\n",
    "model = MLP(features=[64, 64, 64])\n",
    "print(model.tabulate(jax.random.PRNGKey(0), np.zeros((1, 2))))"
   ]
  }
 ],
 "metadata": {
  "language_info": {
   "name": "python"
  }
 },
 "nbformat": 4,
 "nbformat_minor": 2
}
